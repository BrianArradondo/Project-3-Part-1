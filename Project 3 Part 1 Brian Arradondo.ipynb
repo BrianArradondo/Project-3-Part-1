{
 "cells": [
  {
   "cell_type": "markdown",
   "id": "27092d22",
   "metadata": {},
   "source": [
    "# Business Problem"
   ]
  },
  {
   "cell_type": "markdown",
   "id": "8fa98f60",
   "metadata": {},
   "source": [
    "## For this project, you have been hired to produce a MySQL database on Movies from a subset of IMDB's publicly available dataset. Ultimately, you will use this database to analyze what makes a movie successful and will provide recommendations to the stakeholder on how to make a successful movie."
   ]
  },
  {
   "cell_type": "markdown",
   "id": "0eb0f135",
   "metadata": {},
   "source": [
    "Over the course of this project, you will:\n",
    "\n",
    "- Part 1: Download several files from IMDB’s movie data set and filter out the subset of moves requested by the stakeholder.\n",
    "- Part 2: Use an API to extract box office revenue and profit data to add to your IMDB data and perform exploratory data analysis.\n",
    "- Part 3: Construct and export a MySQL database using your data.\n",
    "- Part 4: Apply hypothesis testing to explore what makes a movie successful.\n",
    "- Part 5 (Optional): Produce a Linear Regression model to predict movie performance."
   ]
  },
  {
   "cell_type": "markdown",
   "id": "b68a9d5d",
   "metadata": {},
   "source": [
    "##  Imports"
   ]
  },
  {
   "cell_type": "code",
   "execution_count": 1,
   "id": "24e5599c",
   "metadata": {},
   "outputs": [],
   "source": [
    "import pandas as pd\n",
    "import numpy as np"
   ]
  },
  {
   "cell_type": "markdown",
   "id": "832c1f5f",
   "metadata": {},
   "source": [
    "# The Data"
   ]
  },
  {
   "cell_type": "markdown",
   "id": "48f12d63",
   "metadata": {},
   "source": [
    "- IMDB Provides Several Files with varied information for Movies, TV Shows, Made for TV Movies, etc.\n",
    "\n",
    "- Overview/Data Dictionary: https://www.imdb.com/interfaces/\n",
    "- Downloads page: https://datasets.imdbws.com/\n",
    "- From their previous research, they realized they want to focus on the following files:\n",
    "\n",
    "- title.basics.tsv.gz\n",
    "- title.ratings.tsv.gz\n",
    "- title.akas.tsv.gz"
   ]
  },
  {
   "cell_type": "markdown",
   "id": "362525e0",
   "metadata": {},
   "source": [
    "# Load in the Data"
   ]
  },
  {
   "cell_type": "code",
   "execution_count": 2,
   "id": "27b9b779",
   "metadata": {},
   "outputs": [],
   "source": [
    "# set up urls\n",
    "basics_url=\"https://datasets.imdbws.com/title.basics.tsv.gz\"\n",
    "ratings_url = \"https://datasets.imdbws.com/title.ratings.tsv.gz\"\n",
    "akas_url = \"https://datasets.imdbws.com/title.akas.tsv.gz\""
   ]
  },
  {
   "cell_type": "code",
   "execution_count": 3,
   "id": "34cc78f2",
   "metadata": {},
   "outputs": [],
   "source": [
    "# read in the data\n",
    "basics = pd.read_csv(basics_url, sep='\\t', low_memory=False)\n",
    "akas = pd.read_csv(akas_url, sep='\\t', low_memory=False)\n",
    "ratings = pd.read_csv(ratings_url, sep='\\t', low_memory=False)"
   ]
  },
  {
   "cell_type": "markdown",
   "id": "af6c1ac0",
   "metadata": {},
   "source": [
    "# Database Basics"
   ]
  },
  {
   "cell_type": "markdown",
   "id": "6580cd41",
   "metadata": {},
   "source": [
    "## Filtering Cleaning"
   ]
  },
  {
   "cell_type": "markdown",
   "id": "f7e0eca9",
   "metadata": {},
   "source": [
    "- Filtering/Cleaning Steps:\n",
    "- Title Basics:\n",
    "- Replace \"\\N\" with np.nan\n",
    "- Eliminate movies that are null for runtimeMinutes\n",
    "- Eliminate movies that are null for genre\n",
    "- keep only titleType==Movie\n",
    "- keep startYear 2000-2022\n",
    "- Eliminate movies that include \"Documentary\" in genre (see tip below)\n",
    "- Keep only US movies (Use AKAs table, see \"Filtering one dataframe based on another\" section below)"
   ]
  },
  {
   "cell_type": "code",
   "execution_count": 4,
   "id": "11971ef0",
   "metadata": {
    "scrolled": true
   },
   "outputs": [
    {
     "data": {
      "text/plain": [
       "tconst             0\n",
       "titleType          0\n",
       "primaryTitle      11\n",
       "originalTitle     11\n",
       "isAdult            0\n",
       "startYear          0\n",
       "endYear            0\n",
       "runtimeMinutes     0\n",
       "genres            15\n",
       "dtype: int64"
      ]
     },
     "execution_count": 4,
     "metadata": {},
     "output_type": "execute_result"
    }
   ],
   "source": [
    "basics.isna().sum()"
   ]
  },
  {
   "cell_type": "code",
   "execution_count": 5,
   "id": "97bfa1b2",
   "metadata": {},
   "outputs": [
    {
     "data": {
      "text/plain": [
       "tconst                  0\n",
       "titleType               0\n",
       "primaryTitle           11\n",
       "originalTitle          11\n",
       "isAdult                 1\n",
       "startYear         1335669\n",
       "endYear           9804235\n",
       "runtimeMinutes    6977471\n",
       "genres             444466\n",
       "dtype: int64"
      ]
     },
     "execution_count": 5,
     "metadata": {},
     "output_type": "execute_result"
    }
   ],
   "source": [
    "basics = basics.replace({\"\\\\N\":np.nan})\n",
    "basics.isna().sum()"
   ]
  },
  {
   "cell_type": "markdown",
   "id": "6343fa93",
   "metadata": {},
   "source": [
    "# Eliminate the movies that have null for runtime"
   ]
  },
  {
   "cell_type": "code",
   "execution_count": 6,
   "id": "48e0ec10",
   "metadata": {},
   "outputs": [
    {
     "data": {
      "text/plain": [
       "tconst                  0\n",
       "titleType               0\n",
       "primaryTitle            1\n",
       "originalTitle           1\n",
       "isAdult                 1\n",
       "startYear          173813\n",
       "endYear           2883135\n",
       "runtimeMinutes          0\n",
       "genres              76861\n",
       "dtype: int64"
      ]
     },
     "execution_count": 6,
     "metadata": {},
     "output_type": "execute_result"
    }
   ],
   "source": [
    "basics = basics.dropna(subset = [\"runtimeMinutes\"], axis = 0)\n",
    "basics.isna().sum()"
   ]
  },
  {
   "cell_type": "code",
   "execution_count": 7,
   "id": "cfaa1a21",
   "metadata": {},
   "outputs": [
    {
     "data": {
      "text/plain": [
       "tconst                  0\n",
       "titleType               0\n",
       "primaryTitle            1\n",
       "originalTitle           1\n",
       "isAdult                 0\n",
       "startYear          168878\n",
       "endYear           2807872\n",
       "runtimeMinutes          0\n",
       "genres                  0\n",
       "dtype: int64"
      ]
     },
     "execution_count": 7,
     "metadata": {},
     "output_type": "execute_result"
    }
   ],
   "source": [
    "basics.dropna(subset = [\"genres\"], axis = 0, inplace = True)\n",
    "basics.isna().sum()"
   ]
  },
  {
   "cell_type": "code",
   "execution_count": 8,
   "id": "28b36b33",
   "metadata": {},
   "outputs": [
    {
     "name": "stdout",
     "output_type": "stream",
     "text": [
      "<class 'pandas.core.series.Series'>\n",
      "Int64Index: 383533 entries, 8 to 9912583\n",
      "Series name: titleType\n",
      "Non-Null Count   Dtype \n",
      "--------------   ----- \n",
      "383533 non-null  object\n",
      "dtypes: object(1)\n",
      "memory usage: 5.9+ MB\n"
     ]
    }
   ],
   "source": [
    "# This line of code keeps only titletype Movie  \n",
    "basics = basics[basics[\"titleType\"] == \"movie\"]\n",
    "basics[\"titleType\"].info()"
   ]
  },
  {
   "cell_type": "code",
   "execution_count": 9,
   "id": "b857cc88",
   "metadata": {},
   "outputs": [
    {
     "name": "stdout",
     "output_type": "stream",
     "text": [
      "<class 'pandas.core.frame.DataFrame'>\n",
      "Int64Index: 383533 entries, 8 to 9912583\n",
      "Data columns (total 9 columns):\n",
      " #   Column          Non-Null Count   Dtype \n",
      "---  ------          --------------   ----- \n",
      " 0   tconst          383533 non-null  object\n",
      " 1   titleType       383533 non-null  object\n",
      " 2   primaryTitle    383533 non-null  object\n",
      " 3   originalTitle   383533 non-null  object\n",
      " 4   isAdult         383533 non-null  object\n",
      " 5   startYear       377061 non-null  object\n",
      " 6   endYear         0 non-null       object\n",
      " 7   runtimeMinutes  383533 non-null  object\n",
      " 8   genres          383533 non-null  object\n",
      "dtypes: object(9)\n",
      "memory usage: 29.3+ MB\n"
     ]
    }
   ],
   "source": [
    "basics.info()"
   ]
  },
  {
   "cell_type": "code",
   "execution_count": 10,
   "id": "9780ee99",
   "metadata": {},
   "outputs": [],
   "source": [
    "basics.dropna(subset = [\"startYear\"], axis = 0, inplace = True)\n",
    "basics[\"startYear\"] = basics[\"startYear\"].astype(dtype = int) \n",
    "basics = basics[(basics[\"startYear\"] >= 2000) & (basics[\"startYear\"] <= 2022)]"
   ]
  },
  {
   "cell_type": "code",
   "execution_count": 11,
   "id": "bee52455",
   "metadata": {},
   "outputs": [
    {
     "data": {
      "text/plain": [
       "count    223620.000000\n",
       "mean       2013.373428\n",
       "std           5.854230\n",
       "min        2000.000000\n",
       "25%        2009.000000\n",
       "50%        2014.000000\n",
       "75%        2018.000000\n",
       "max        2022.000000\n",
       "Name: startYear, dtype: float64"
      ]
     },
     "execution_count": 11,
     "metadata": {},
     "output_type": "execute_result"
    }
   ],
   "source": [
    "basics[\"startYear\"].describe()"
   ]
  },
  {
   "cell_type": "code",
   "execution_count": 12,
   "id": "aa79df3c",
   "metadata": {},
   "outputs": [],
   "source": [
    "# This line of code eLiminates Movies with Documentary in genre\n",
    "is_documentary = basics[\"genres\"].str.contains(\"documentary\", case=False)\n",
    "basics = basics[~is_documentary]"
   ]
  },
  {
   "cell_type": "code",
   "execution_count": 13,
   "id": "3ca0ac40",
   "metadata": {},
   "outputs": [
    {
     "data": {
      "text/plain": [
       "Drama                        36078\n",
       "Comedy                       13463\n",
       "Comedy,Drama                  6463\n",
       "Horror                        5804\n",
       "Drama,Romance                 4316\n",
       "                             ...  \n",
       "Family,Musical,Sport             1\n",
       "Horror,Music,Mystery             1\n",
       "Comedy,History,Mystery           1\n",
       "Animation,Biography,Sport        1\n",
       "Crime,Fantasy,Sci-Fi             1\n",
       "Name: genres, Length: 955, dtype: int64"
      ]
     },
     "execution_count": 13,
     "metadata": {},
     "output_type": "execute_result"
    }
   ],
   "source": [
    "basics[\"genres\"].value_counts()"
   ]
  },
  {
   "cell_type": "markdown",
   "id": "52f2946a",
   "metadata": {},
   "source": [
    "## AKAS Database"
   ]
  },
  {
   "cell_type": "code",
   "execution_count": 14,
   "id": "686f74fd",
   "metadata": {},
   "outputs": [
    {
     "name": "stdout",
     "output_type": "stream",
     "text": [
      "<class 'pandas.core.frame.DataFrame'>\n",
      "RangeIndex: 36139188 entries, 0 to 36139187\n",
      "Data columns (total 8 columns):\n",
      " #   Column           Dtype \n",
      "---  ------           ----- \n",
      " 0   titleId          object\n",
      " 1   ordering         int64 \n",
      " 2   title            object\n",
      " 3   region           object\n",
      " 4   language         object\n",
      " 5   types            object\n",
      " 6   attributes       object\n",
      " 7   isOriginalTitle  object\n",
      "dtypes: int64(1), object(7)\n",
      "memory usage: 2.2+ GB\n"
     ]
    }
   ],
   "source": [
    "akas.info()"
   ]
  },
  {
   "cell_type": "code",
   "execution_count": 15,
   "id": "37446213",
   "metadata": {},
   "outputs": [
    {
     "data": {
      "text/plain": [
       "US    1443212\n",
       "Name: region, dtype: int64"
      ]
     },
     "execution_count": 15,
     "metadata": {},
     "output_type": "execute_result"
    }
   ],
   "source": [
    "# This line keeps only the US movies in it\n",
    "akas = akas[akas[\"region\"] == \"US\"]\n",
    "akas[\"region\"].value_counts()"
   ]
  },
  {
   "cell_type": "code",
   "execution_count": 16,
   "id": "9e0ef02f",
   "metadata": {},
   "outputs": [
    {
     "data": {
      "text/plain": [
       "titleId                  0\n",
       "ordering                 0\n",
       "title                    0\n",
       "region                   0\n",
       "language           1439267\n",
       "types               463400\n",
       "attributes         1396509\n",
       "isOriginalTitle       1342\n",
       "dtype: int64"
      ]
     },
     "execution_count": 16,
     "metadata": {},
     "output_type": "execute_result"
    }
   ],
   "source": [
    "akas = akas.replace({\"\\\\N\":np.nan})\n",
    "akas.isna().sum()"
   ]
  },
  {
   "cell_type": "code",
   "execution_count": 17,
   "id": "74715314",
   "metadata": {},
   "outputs": [],
   "source": [
    "keepers = basics[\"tconst\"].isin(akas[\"titleId\"])\n",
    "basics = basics[keepers]"
   ]
  },
  {
   "cell_type": "markdown",
   "id": "02fc2a5f",
   "metadata": {},
   "source": [
    "## Ratings Database"
   ]
  },
  {
   "cell_type": "code",
   "execution_count": 18,
   "id": "f8561312",
   "metadata": {},
   "outputs": [
    {
     "name": "stdout",
     "output_type": "stream",
     "text": [
      "<class 'pandas.core.frame.DataFrame'>\n",
      "RangeIndex: 1320058 entries, 0 to 1320057\n",
      "Data columns (total 3 columns):\n",
      " #   Column         Non-Null Count    Dtype  \n",
      "---  ------         --------------    -----  \n",
      " 0   tconst         1320058 non-null  object \n",
      " 1   averageRating  1320058 non-null  float64\n",
      " 2   numVotes       1320058 non-null  int64  \n",
      "dtypes: float64(1), int64(1), object(1)\n",
      "memory usage: 30.2+ MB\n"
     ]
    }
   ],
   "source": [
    "ratings.info()"
   ]
  },
  {
   "cell_type": "code",
   "execution_count": 19,
   "id": "6197d590",
   "metadata": {},
   "outputs": [
    {
     "data": {
      "text/plain": [
       "tconst           0\n",
       "averageRating    0\n",
       "numVotes         0\n",
       "dtype: int64"
      ]
     },
     "execution_count": 19,
     "metadata": {},
     "output_type": "execute_result"
    }
   ],
   "source": [
    "ratings = ratings.replace({\"\\\\N\":np.nan})\n",
    "ratings.isna().sum()"
   ]
  },
  {
   "cell_type": "code",
   "execution_count": 20,
   "id": "2170e7c9",
   "metadata": {},
   "outputs": [],
   "source": [
    "keepers =ratings[\"tconst\"].isin(akas[\"titleId\"])\n",
    "ratings = ratings[keepers]"
   ]
  },
  {
   "cell_type": "markdown",
   "id": "7ab6233d",
   "metadata": {},
   "source": [
    "## Verify Info"
   ]
  },
  {
   "cell_type": "code",
   "execution_count": 21,
   "id": "3cafd7f6",
   "metadata": {},
   "outputs": [
    {
     "name": "stdout",
     "output_type": "stream",
     "text": [
      "<class 'pandas.core.frame.DataFrame'>\n",
      "Int64Index: 86753 entries, 34803 to 9912399\n",
      "Data columns (total 9 columns):\n",
      " #   Column          Non-Null Count  Dtype \n",
      "---  ------          --------------  ----- \n",
      " 0   tconst          86753 non-null  object\n",
      " 1   titleType       86753 non-null  object\n",
      " 2   primaryTitle    86753 non-null  object\n",
      " 3   originalTitle   86753 non-null  object\n",
      " 4   isAdult         86753 non-null  object\n",
      " 5   startYear       86753 non-null  int32 \n",
      " 6   endYear         0 non-null      object\n",
      " 7   runtimeMinutes  86753 non-null  object\n",
      " 8   genres          86753 non-null  object\n",
      "dtypes: int32(1), object(8)\n",
      "memory usage: 6.3+ MB\n"
     ]
    }
   ],
   "source": [
    "basics.info()"
   ]
  },
  {
   "cell_type": "code",
   "execution_count": 22,
   "id": "e2528569",
   "metadata": {},
   "outputs": [
    {
     "name": "stdout",
     "output_type": "stream",
     "text": [
      "<class 'pandas.core.frame.DataFrame'>\n",
      "Int64Index: 501007 entries, 0 to 1320033\n",
      "Data columns (total 3 columns):\n",
      " #   Column         Non-Null Count   Dtype  \n",
      "---  ------         --------------   -----  \n",
      " 0   tconst         501007 non-null  object \n",
      " 1   averageRating  501007 non-null  float64\n",
      " 2   numVotes       501007 non-null  int64  \n",
      "dtypes: float64(1), int64(1), object(1)\n",
      "memory usage: 15.3+ MB\n"
     ]
    }
   ],
   "source": [
    "ratings.info()"
   ]
  },
  {
   "cell_type": "code",
   "execution_count": 23,
   "id": "2fcead31",
   "metadata": {},
   "outputs": [
    {
     "name": "stdout",
     "output_type": "stream",
     "text": [
      "<class 'pandas.core.frame.DataFrame'>\n",
      "Int64Index: 1443212 entries, 5 to 36138932\n",
      "Data columns (total 8 columns):\n",
      " #   Column           Non-Null Count    Dtype \n",
      "---  ------           --------------    ----- \n",
      " 0   titleId          1443212 non-null  object\n",
      " 1   ordering         1443212 non-null  int64 \n",
      " 2   title            1443212 non-null  object\n",
      " 3   region           1443212 non-null  object\n",
      " 4   language         3945 non-null     object\n",
      " 5   types            979812 non-null   object\n",
      " 6   attributes       46703 non-null    object\n",
      " 7   isOriginalTitle  1441870 non-null  object\n",
      "dtypes: int64(1), object(7)\n",
      "memory usage: 99.1+ MB\n"
     ]
    }
   ],
   "source": [
    "akas.info()"
   ]
  },
  {
   "cell_type": "markdown",
   "id": "3dcea545",
   "metadata": {},
   "source": [
    "# Saving the Files"
   ]
  },
  {
   "cell_type": "code",
   "execution_count": 24,
   "id": "13b35c89",
   "metadata": {},
   "outputs": [
    {
     "data": {
      "text/plain": [
       "['title_basics.csv.gz']"
      ]
     },
     "execution_count": 24,
     "metadata": {},
     "output_type": "execute_result"
    }
   ],
   "source": [
    "import os\n",
    "os.makedirs('Data/',exist_ok=True) \n",
    "\n",
    "#This line confirms folder created\n",
    "os.listdir(\"Data/\")"
   ]
  },
  {
   "cell_type": "code",
   "execution_count": 25,
   "id": "5fdfe232",
   "metadata": {},
   "outputs": [
    {
     "data": {
      "text/html": [
       "<div>\n",
       "<style scoped>\n",
       "    .dataframe tbody tr th:only-of-type {\n",
       "        vertical-align: middle;\n",
       "    }\n",
       "\n",
       "    .dataframe tbody tr th {\n",
       "        vertical-align: top;\n",
       "    }\n",
       "\n",
       "    .dataframe thead th {\n",
       "        text-align: right;\n",
       "    }\n",
       "</style>\n",
       "<table border=\"1\" class=\"dataframe\">\n",
       "  <thead>\n",
       "    <tr style=\"text-align: right;\">\n",
       "      <th></th>\n",
       "      <th>tconst</th>\n",
       "      <th>titleType</th>\n",
       "      <th>primaryTitle</th>\n",
       "      <th>originalTitle</th>\n",
       "      <th>isAdult</th>\n",
       "      <th>startYear</th>\n",
       "      <th>endYear</th>\n",
       "      <th>runtimeMinutes</th>\n",
       "      <th>genres</th>\n",
       "    </tr>\n",
       "  </thead>\n",
       "  <tbody>\n",
       "    <tr>\n",
       "      <th>0</th>\n",
       "      <td>tt0035423</td>\n",
       "      <td>movie</td>\n",
       "      <td>Kate &amp; Leopold</td>\n",
       "      <td>Kate &amp; Leopold</td>\n",
       "      <td>0</td>\n",
       "      <td>2001</td>\n",
       "      <td>NaN</td>\n",
       "      <td>118</td>\n",
       "      <td>Comedy,Fantasy,Romance</td>\n",
       "    </tr>\n",
       "    <tr>\n",
       "      <th>1</th>\n",
       "      <td>tt0043139</td>\n",
       "      <td>movie</td>\n",
       "      <td>Life of a Beijing Policeman</td>\n",
       "      <td>Wo zhe yi bei zi</td>\n",
       "      <td>0</td>\n",
       "      <td>2013</td>\n",
       "      <td>NaN</td>\n",
       "      <td>120</td>\n",
       "      <td>Drama,History</td>\n",
       "    </tr>\n",
       "    <tr>\n",
       "      <th>2</th>\n",
       "      <td>tt0062336</td>\n",
       "      <td>movie</td>\n",
       "      <td>The Tango of the Widower and Its Distorting Mi...</td>\n",
       "      <td>El tango del viudo y su espejo deformante</td>\n",
       "      <td>0</td>\n",
       "      <td>2020</td>\n",
       "      <td>NaN</td>\n",
       "      <td>70</td>\n",
       "      <td>Drama</td>\n",
       "    </tr>\n",
       "    <tr>\n",
       "      <th>3</th>\n",
       "      <td>tt0069049</td>\n",
       "      <td>movie</td>\n",
       "      <td>The Other Side of the Wind</td>\n",
       "      <td>The Other Side of the Wind</td>\n",
       "      <td>0</td>\n",
       "      <td>2018</td>\n",
       "      <td>NaN</td>\n",
       "      <td>122</td>\n",
       "      <td>Drama</td>\n",
       "    </tr>\n",
       "    <tr>\n",
       "      <th>4</th>\n",
       "      <td>tt0088751</td>\n",
       "      <td>movie</td>\n",
       "      <td>The Naked Monster</td>\n",
       "      <td>The Naked Monster</td>\n",
       "      <td>0</td>\n",
       "      <td>2005</td>\n",
       "      <td>NaN</td>\n",
       "      <td>100</td>\n",
       "      <td>Comedy,Horror,Sci-Fi</td>\n",
       "    </tr>\n",
       "  </tbody>\n",
       "</table>\n",
       "</div>"
      ],
      "text/plain": [
       "      tconst titleType                                       primaryTitle  \\\n",
       "0  tt0035423     movie                                     Kate & Leopold   \n",
       "1  tt0043139     movie                        Life of a Beijing Policeman   \n",
       "2  tt0062336     movie  The Tango of the Widower and Its Distorting Mi...   \n",
       "3  tt0069049     movie                         The Other Side of the Wind   \n",
       "4  tt0088751     movie                                  The Naked Monster   \n",
       "\n",
       "                               originalTitle  isAdult  startYear  endYear  \\\n",
       "0                             Kate & Leopold        0       2001      NaN   \n",
       "1                           Wo zhe yi bei zi        0       2013      NaN   \n",
       "2  El tango del viudo y su espejo deformante        0       2020      NaN   \n",
       "3                 The Other Side of the Wind        0       2018      NaN   \n",
       "4                          The Naked Monster        0       2005      NaN   \n",
       "\n",
       "   runtimeMinutes                  genres  \n",
       "0             118  Comedy,Fantasy,Romance  \n",
       "1             120           Drama,History  \n",
       "2              70                   Drama  \n",
       "3             122                   Drama  \n",
       "4             100    Comedy,Horror,Sci-Fi  "
      ]
     },
     "execution_count": 25,
     "metadata": {},
     "output_type": "execute_result"
    }
   ],
   "source": [
    "basics.to_csv(\"Data/title_basics.csv.gz\",compression=\"gzip\",index=False)\n",
    "\n",
    "# Open up the saved file and preview it\n",
    "basics = pd.read_csv(\"Data/title_basics.csv.gz\", low_memory = False)\n",
    "basics.head()"
   ]
  },
  {
   "cell_type": "code",
   "execution_count": 26,
   "id": "ae65703c",
   "metadata": {},
   "outputs": [
    {
     "data": {
      "text/html": [
       "<div>\n",
       "<style scoped>\n",
       "    .dataframe tbody tr th:only-of-type {\n",
       "        vertical-align: middle;\n",
       "    }\n",
       "\n",
       "    .dataframe tbody tr th {\n",
       "        vertical-align: top;\n",
       "    }\n",
       "\n",
       "    .dataframe thead th {\n",
       "        text-align: right;\n",
       "    }\n",
       "</style>\n",
       "<table border=\"1\" class=\"dataframe\">\n",
       "  <thead>\n",
       "    <tr style=\"text-align: right;\">\n",
       "      <th></th>\n",
       "      <th>titleId</th>\n",
       "      <th>ordering</th>\n",
       "      <th>title</th>\n",
       "      <th>region</th>\n",
       "      <th>language</th>\n",
       "      <th>types</th>\n",
       "      <th>attributes</th>\n",
       "      <th>isOriginalTitle</th>\n",
       "    </tr>\n",
       "  </thead>\n",
       "  <tbody>\n",
       "    <tr>\n",
       "      <th>0</th>\n",
       "      <td>tt0000001</td>\n",
       "      <td>6</td>\n",
       "      <td>Carmencita</td>\n",
       "      <td>US</td>\n",
       "      <td>NaN</td>\n",
       "      <td>imdbDisplay</td>\n",
       "      <td>NaN</td>\n",
       "      <td>0.0</td>\n",
       "    </tr>\n",
       "    <tr>\n",
       "      <th>1</th>\n",
       "      <td>tt0000002</td>\n",
       "      <td>7</td>\n",
       "      <td>The Clown and His Dogs</td>\n",
       "      <td>US</td>\n",
       "      <td>NaN</td>\n",
       "      <td>NaN</td>\n",
       "      <td>literal English title</td>\n",
       "      <td>0.0</td>\n",
       "    </tr>\n",
       "    <tr>\n",
       "      <th>2</th>\n",
       "      <td>tt0000005</td>\n",
       "      <td>10</td>\n",
       "      <td>Blacksmith Scene</td>\n",
       "      <td>US</td>\n",
       "      <td>NaN</td>\n",
       "      <td>imdbDisplay</td>\n",
       "      <td>NaN</td>\n",
       "      <td>0.0</td>\n",
       "    </tr>\n",
       "    <tr>\n",
       "      <th>3</th>\n",
       "      <td>tt0000005</td>\n",
       "      <td>1</td>\n",
       "      <td>Blacksmithing Scene</td>\n",
       "      <td>US</td>\n",
       "      <td>NaN</td>\n",
       "      <td>alternative</td>\n",
       "      <td>NaN</td>\n",
       "      <td>0.0</td>\n",
       "    </tr>\n",
       "    <tr>\n",
       "      <th>4</th>\n",
       "      <td>tt0000005</td>\n",
       "      <td>6</td>\n",
       "      <td>Blacksmith Scene #1</td>\n",
       "      <td>US</td>\n",
       "      <td>NaN</td>\n",
       "      <td>alternative</td>\n",
       "      <td>NaN</td>\n",
       "      <td>0.0</td>\n",
       "    </tr>\n",
       "  </tbody>\n",
       "</table>\n",
       "</div>"
      ],
      "text/plain": [
       "     titleId  ordering                   title region language        types  \\\n",
       "0  tt0000001         6              Carmencita     US      NaN  imdbDisplay   \n",
       "1  tt0000002         7  The Clown and His Dogs     US      NaN          NaN   \n",
       "2  tt0000005        10        Blacksmith Scene     US      NaN  imdbDisplay   \n",
       "3  tt0000005         1     Blacksmithing Scene     US      NaN  alternative   \n",
       "4  tt0000005         6     Blacksmith Scene #1     US      NaN  alternative   \n",
       "\n",
       "              attributes  isOriginalTitle  \n",
       "0                    NaN              0.0  \n",
       "1  literal English title              0.0  \n",
       "2                    NaN              0.0  \n",
       "3                    NaN              0.0  \n",
       "4                    NaN              0.0  "
      ]
     },
     "execution_count": 26,
     "metadata": {},
     "output_type": "execute_result"
    }
   ],
   "source": [
    "akas.to_csv(\"Data/title_akas.csv.gz\",compression=\"gzip\",index=False)\n",
    "\n",
    "# Open up the saved file and preview it\n",
    "akas = pd.read_csv(\"Data/title_akas.csv.gz\", low_memory = False)\n",
    "akas.head()"
   ]
  },
  {
   "cell_type": "code",
   "execution_count": 27,
   "id": "ba08a4ca",
   "metadata": {},
   "outputs": [
    {
     "data": {
      "text/html": [
       "<div>\n",
       "<style scoped>\n",
       "    .dataframe tbody tr th:only-of-type {\n",
       "        vertical-align: middle;\n",
       "    }\n",
       "\n",
       "    .dataframe tbody tr th {\n",
       "        vertical-align: top;\n",
       "    }\n",
       "\n",
       "    .dataframe thead th {\n",
       "        text-align: right;\n",
       "    }\n",
       "</style>\n",
       "<table border=\"1\" class=\"dataframe\">\n",
       "  <thead>\n",
       "    <tr style=\"text-align: right;\">\n",
       "      <th></th>\n",
       "      <th>tconst</th>\n",
       "      <th>averageRating</th>\n",
       "      <th>numVotes</th>\n",
       "    </tr>\n",
       "  </thead>\n",
       "  <tbody>\n",
       "    <tr>\n",
       "      <th>0</th>\n",
       "      <td>tt0000001</td>\n",
       "      <td>5.7</td>\n",
       "      <td>1978</td>\n",
       "    </tr>\n",
       "    <tr>\n",
       "      <th>1</th>\n",
       "      <td>tt0000002</td>\n",
       "      <td>5.8</td>\n",
       "      <td>265</td>\n",
       "    </tr>\n",
       "    <tr>\n",
       "      <th>2</th>\n",
       "      <td>tt0000005</td>\n",
       "      <td>6.2</td>\n",
       "      <td>2621</td>\n",
       "    </tr>\n",
       "    <tr>\n",
       "      <th>3</th>\n",
       "      <td>tt0000006</td>\n",
       "      <td>5.1</td>\n",
       "      <td>182</td>\n",
       "    </tr>\n",
       "    <tr>\n",
       "      <th>4</th>\n",
       "      <td>tt0000007</td>\n",
       "      <td>5.4</td>\n",
       "      <td>821</td>\n",
       "    </tr>\n",
       "  </tbody>\n",
       "</table>\n",
       "</div>"
      ],
      "text/plain": [
       "      tconst  averageRating  numVotes\n",
       "0  tt0000001            5.7      1978\n",
       "1  tt0000002            5.8       265\n",
       "2  tt0000005            6.2      2621\n",
       "3  tt0000006            5.1       182\n",
       "4  tt0000007            5.4       821"
      ]
     },
     "execution_count": 27,
     "metadata": {},
     "output_type": "execute_result"
    }
   ],
   "source": [
    "ratings.to_csv(\"Data/title_ratings.csv.gz\",compression=\"gzip\",index=False)\n",
    "\n",
    "# Open up the saved file and preview it\n",
    "ratings = pd.read_csv(\"Data/title_ratings.csv.gz\", low_memory = False)\n",
    "ratings.head()"
   ]
  }
 ],
 "metadata": {
  "kernelspec": {
   "display_name": "Python (dojo-env)",
   "language": "python",
   "name": "dojo-env"
  },
  "language_info": {
   "codemirror_mode": {
    "name": "ipython",
    "version": 3
   },
   "file_extension": ".py",
   "mimetype": "text/x-python",
   "name": "python",
   "nbconvert_exporter": "python",
   "pygments_lexer": "ipython3",
   "version": "3.9.15"
  },
  "toc": {
   "base_numbering": 1,
   "nav_menu": {},
   "number_sections": true,
   "sideBar": true,
   "skip_h1_title": false,
   "title_cell": "Table of Contents",
   "title_sidebar": "Contents",
   "toc_cell": false,
   "toc_position": {},
   "toc_section_display": true,
   "toc_window_display": false
  }
 },
 "nbformat": 4,
 "nbformat_minor": 5
}
